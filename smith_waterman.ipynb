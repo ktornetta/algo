{
 "cells": [
  {
   "cell_type": "markdown",
   "metadata": {},
   "source": [
    "### Kelly Tornetta\n",
    "### Smith-Waterman Algorithm"
   ]
  },
  {
   "cell_type": "code",
   "execution_count": 1,
   "metadata": {},
   "outputs": [],
   "source": [
    "import random\n",
    "import string\n",
    "import numpy as np"
   ]
  },
  {
   "cell_type": "code",
   "execution_count": 2,
   "metadata": {},
   "outputs": [],
   "source": [
    "#function outputs random string of a certain length and number of characters\n",
    "\n",
    "def random_string(length, num_char):\n",
    "    if num_char < 1: \n",
    "        print(\"ERROR: Needs at least one character.\")\n",
    "        return 0\n",
    "    elif num_char > 26:\n",
    "        print(\"ERROR: Maximum number of characters is 26.\")\n",
    "        return 0\n",
    "    letters = string.ascii_lowercase[0:num_char]\n",
    "    output = ''.join(random.choice(letters) for i in range(length))\n",
    "    return output"
   ]
  },
  {
   "cell_type": "markdown",
   "metadata": {},
   "source": [
    "Testing:"
   ]
  },
  {
   "cell_type": "code",
   "execution_count": 3,
   "metadata": {},
   "outputs": [
    {
     "data": {
      "text/plain": [
       "'dcccdccbaa'"
      ]
     },
     "execution_count": 3,
     "metadata": {},
     "output_type": "execute_result"
    }
   ],
   "source": [
    "random_string(10,4)"
   ]
  },
  {
   "cell_type": "markdown",
   "metadata": {},
   "source": [
    "### H matrix in the Smith-Waterman Algo - bottom up"
   ]
  },
  {
   "cell_type": "code",
   "execution_count": 4,
   "metadata": {},
   "outputs": [],
   "source": [
    "def smith_matrix(X, Y):\n",
    "    n, m = len(X), len(Y)\n",
    "    H = np.zeros((n + 1, m + 1), np.int)\n",
    "    \n",
    "    for i in range(1, n + 1):\n",
    "        for j in range(1, m + 1):\n",
    "            if X[i-1] == Y[j-1]:\n",
    "                p1 = H[i-1, j-1] + 2\n",
    "            else:\n",
    "                p1 = H[i-1, j-1] - 1\n",
    "            p2 = H[i-1, j] - 1\n",
    "            p3 = H[i, j-1] - 1\n",
    "            H[i, j] = max(p1, p2, p3)\n",
    "    return H"
   ]
  },
  {
   "cell_type": "markdown",
   "metadata": {},
   "source": [
    "Testing:"
   ]
  },
  {
   "cell_type": "code",
   "execution_count": 5,
   "metadata": {
    "scrolled": true
   },
   "outputs": [
    {
     "name": "stdout",
     "output_type": "stream",
     "text": [
      "[[ 0  0  0  0  0  0  0  0  0]\n",
      " [ 0  2  1  2  1  2  1  0  2]\n",
      " [ 0  1  1  1  1  1  1  0  1]\n",
      " [ 0  0  3  2  3  2  3  2  1]\n",
      " [ 0  2  2  5  4  5  4  3  4]\n",
      " [ 0  1  4  4  7  6  7  6  5]\n",
      " [ 0  2  3  6  6  9  8  7  8]\n",
      " [ 0  1  4  5  8  8 11 10  9]\n",
      " [ 0  2  3  6  7 10 10 10 12]]\n"
     ]
    }
   ],
   "source": [
    "print(smith_matrix('acbababa', 'abababda'))"
   ]
  },
  {
   "cell_type": "markdown",
   "metadata": {},
   "source": [
    "### Smith-Waterman with H and P matrices - bottom up"
   ]
  },
  {
   "cell_type": "code",
   "execution_count": 6,
   "metadata": {},
   "outputs": [],
   "source": [
    "def smith_waterman(X, Y):\n",
    "    n, m = len(X), len(Y)\n",
    "    H = np.zeros((n + 1, m + 1), np.int)\n",
    "    P = np.zeros((n + 1, m + 1), np.int)\n",
    "    \n",
    "    for i in range(1, n + 1):\n",
    "        for j in range(1, m + 1):\n",
    "            if X[i-1] == Y[j-1]:\n",
    "                p1 = H[i-1, j-1] + 2\n",
    "            else:\n",
    "                p1 = H[i-1, j-1] - 1\n",
    "            p2 = H[i-1, j] - 1\n",
    "            p3 = H[i, j-1] - 1\n",
    "            H[i, j] = max(p1, p2, p3)\n",
    "            \n",
    "            if H[i, j] == p1:\n",
    "                P[i, j] = 1 #1 is the up left arrow\n",
    "            else:\n",
    "                if H[i, j] == p2:\n",
    "                    P[i, j] = 2 #2 is the up arrow\n",
    "                else:\n",
    "                    P[i, j] = 3 #3 is the left arrow       \n",
    "    \n",
    "    return H, P"
   ]
  },
  {
   "cell_type": "markdown",
   "metadata": {},
   "source": [
    "Testing:"
   ]
  },
  {
   "cell_type": "code",
   "execution_count": 7,
   "metadata": {
    "scrolled": true
   },
   "outputs": [
    {
     "name": "stdout",
     "output_type": "stream",
     "text": [
      "H is: \n",
      " [[ 0  0  0  0  0  0  0  0  0]\n",
      " [ 0  2  1  2  1  2  1  0  2]\n",
      " [ 0  1  1  1  1  1  1  0  1]\n",
      " [ 0  0  3  2  3  2  3  2  1]\n",
      " [ 0  2  2  5  4  5  4  3  4]\n",
      " [ 0  1  4  4  7  6  7  6  5]\n",
      " [ 0  2  3  6  6  9  8  7  8]\n",
      " [ 0  1  4  5  8  8 11 10  9]\n",
      " [ 0  2  3  6  7 10 10 10 12]]\n",
      "\n",
      "P is: \n",
      " [[0 0 0 0 0 0 0 0 0]\n",
      " [0 1 3 1 3 1 3 3 1]\n",
      " [0 2 1 2 1 2 1 1 2]\n",
      " [0 2 1 3 1 3 1 3 3]\n",
      " [0 1 2 1 3 1 3 3 1]\n",
      " [0 2 1 2 1 3 1 3 3]\n",
      " [0 1 2 1 2 1 3 3 1]\n",
      " [0 2 1 2 1 2 1 3 3]\n",
      " [0 1 2 1 2 1 2 1 1]]\n"
     ]
    }
   ],
   "source": [
    "print('H is: \\n', smith_waterman('acbababa', 'abababda')[0])\n",
    "print('\\nP is: \\n', smith_waterman('acbababa', 'abababda')[1])"
   ]
  },
  {
   "cell_type": "markdown",
   "metadata": {},
   "source": [
    "### Align X and Align Y print functions"
   ]
  },
  {
   "cell_type": "code",
   "execution_count": 8,
   "metadata": {},
   "outputs": [],
   "source": [
    "def smith_alignX(X, P, n, m):\n",
    "    if P[n][m] == 1:\n",
    "        smith_alignX(X, P, n-1, m-1)\n",
    "        print(X[n-1])\n",
    "    else:\n",
    "        if P[n][m] == 3:\n",
    "            smith_alignX(X, P, n, m - 1)\n",
    "            print('-')\n",
    "        elif P[n][m] == 2:\n",
    "            smith_alignX(X, P, n - 1, m)\n",
    "            print(X[n-1])   "
   ]
  },
  {
   "cell_type": "code",
   "execution_count": 9,
   "metadata": {},
   "outputs": [],
   "source": [
    "def smith_alignY(Y, P, n, m):\n",
    "    if P[n][m] == 1:\n",
    "        smith_alignY(Y, P, n-1, m-1)\n",
    "        print(Y[m-1])\n",
    "    else:\n",
    "        if P[n][m] == 2:\n",
    "            smith_alignY(Y, P, n-1, m)\n",
    "            print('-')\n",
    "        elif P[n][m] == 3:\n",
    "            smith_alignY(Y, P, n, m-1)\n",
    "            print(Y[m-1])  "
   ]
  },
  {
   "cell_type": "markdown",
   "metadata": {},
   "source": [
    "Testing:"
   ]
  },
  {
   "cell_type": "code",
   "execution_count": 14,
   "metadata": {},
   "outputs": [
    {
     "name": "stdout",
     "output_type": "stream",
     "text": [
      "c\n",
      "-\n",
      "d\n",
      "b\n",
      "a\n",
      "-\n",
      "-\n",
      "a\n",
      "b\n",
      "b\n",
      "d\n",
      "c\n",
      "a\n",
      "---------\n",
      "c\n",
      "a\n",
      "d\n",
      "c\n",
      "a\n",
      "c\n",
      "c\n",
      "a\n",
      "-\n",
      "b\n",
      "d\n",
      "-\n",
      "-\n"
     ]
    }
   ],
   "source": [
    "X = 'cdbaabbdca'\n",
    "Y = 'cadcaccabd'\n",
    "n = len(X)\n",
    "m = len(Y)\n",
    "H = smith_waterman(X, Y)[0]\n",
    "P = smith_waterman(X, Y)[1]\n",
    "\n",
    "smith_alignX(X, P, n, m)\n",
    "print('---------')\n",
    "smith_alignY(Y, P, n, m)"
   ]
  },
  {
   "cell_type": "markdown",
   "metadata": {
    "scrolled": true
   },
   "source": [
    "### Complete Smith-Waterman function to output H, P, max. alignment, X' and Y' - bottom up"
   ]
  },
  {
   "cell_type": "code",
   "execution_count": 15,
   "metadata": {},
   "outputs": [],
   "source": [
    "def smith_complete(X,Y):\n",
    "    n = len(X)\n",
    "    m = len(Y)\n",
    "    H = smith_waterman(X, Y)[0]\n",
    "    P = smith_waterman(X, Y)[1]\n",
    "    \n",
    "    print('H is: \\n', H, \"\\n\")\n",
    "    print('P is: \\n', P, \"\\n\")\n",
    "    print('Maximum alignment is: ', H[n,m], '\\n')\n",
    "    \n",
    "    print(\"X' is:\")\n",
    "    smith_alignX(X, P, n, m)\n",
    "    print('\\n')\n",
    "    print(\"Y' is:\")\n",
    "    smith_alignY(Y, P, n, m)\n",
    "    "
   ]
  },
  {
   "cell_type": "markdown",
   "metadata": {},
   "source": [
    "Testing:"
   ]
  },
  {
   "cell_type": "code",
   "execution_count": 16,
   "metadata": {},
   "outputs": [
    {
     "name": "stdout",
     "output_type": "stream",
     "text": [
      "H is: \n",
      " [[ 0  0  0  0  0  0  0  0  0  0  0]\n",
      " [ 0 -1  2  2  1  2  1  2  2  1  0]\n",
      " [ 0 -1  1  1  1  1  1  1  1  1  3]\n",
      " [ 0 -1  0  0  0  0  0  0  0  0  3]\n",
      " [ 0 -1  1  2  1  2  1  2  2  1  2]\n",
      " [ 0  2  1  1  4  3  2  1  1  4  3]\n",
      " [ 0  1  1  0  3  3  5  4  3  3  3]\n",
      " [ 0  0  0  0  2  2  4  4  3  2  5]\n",
      " [ 0 -1  2  2  1  4  3  6  6  5  4]\n",
      " [ 0 -1  1  4  3  3  3  5  8  7  6]\n",
      " [ 0 -1  0  3  3  2  2  4  7  7  9]] \n",
      "\n",
      "P is: \n",
      " [[0 0 0 0 0 0 0 0 0 0 0]\n",
      " [0 1 1 1 3 1 3 1 1 3 3]\n",
      " [0 1 2 1 1 2 1 2 1 1 1]\n",
      " [0 1 2 1 1 1 1 1 1 1 1]\n",
      " [0 1 1 1 3 1 3 1 1 3 2]\n",
      " [0 1 3 2 1 3 3 2 1 1 3]\n",
      " [0 2 1 1 2 1 1 3 3 2 1]\n",
      " [0 2 1 1 2 1 2 1 1 1 1]\n",
      " [0 1 1 1 2 1 2 1 1 3 2]\n",
      " [0 1 1 1 3 1 1 1 1 3 3]\n",
      " [0 1 2 2 1 1 1 2 2 1 1]] \n",
      "\n",
      "Maximum alignment is:  9 \n",
      "\n",
      "X' is:\n",
      "c\n",
      "a\n",
      "a\n",
      "c\n",
      "b\n",
      "-\n",
      "d\n",
      "a\n",
      "c\n",
      "c\n",
      "-\n",
      "a\n",
      "\n",
      "\n",
      "Y' is:\n",
      "c\n",
      "-\n",
      "-\n",
      "c\n",
      "b\n",
      "c\n",
      "d\n",
      "-\n",
      "c\n",
      "c\n",
      "b\n",
      "a\n"
     ]
    }
   ],
   "source": [
    "smith_complete('caacbdacca', 'bccbcdccba')"
   ]
  },
  {
   "cell_type": "markdown",
   "metadata": {},
   "source": [
    "### Smith-Waterman Top-down with Memoization"
   ]
  },
  {
   "cell_type": "code",
   "execution_count": 17,
   "metadata": {},
   "outputs": [],
   "source": [
    "#Note: initialize M as values that cannot be in matrix to determine if we have computed already\n",
    "#Note: minimum value for any element is -n or -m, so our bound will be -max(n,m) - 1\n",
    "\n",
    "def smith_memo(X, Y):\n",
    "    n, m = len(X), len(Y)\n",
    "    bound = -max(n, m) - 1\n",
    "    \n",
    "    M = np.full((n+1, m+1), bound, dtype=int)\n",
    "    P = np.zeros((n + 1, m + 1), np.int)\n",
    "    \n",
    "    for i in range(0, n+1): M[i,0] = 0\n",
    "    for j in range(0, m+1): M[0,j] = 0\n",
    "    \n",
    "    for i in range(1, n + 1):\n",
    "        for j in range(1, n + 1):\n",
    "            if M[i,j] != bound:  #memoization: checks if value has already been computed\n",
    "                M[i,j] = M[i,j]\n",
    "            elif X[i-1] == Y[j-1]:\n",
    "                p1 = M[i-1, j-1] + 2\n",
    "            else:\n",
    "                p1 = M[i-1, j-1] - 1\n",
    "            p2 = M[i-1, j] - 1\n",
    "            p3 = M[i, j-1] - 1\n",
    "            M[i, j] = max(p1, p2, p3)\n",
    "            \n",
    "            \n",
    "            if M[i, j] == p1:\n",
    "                P[i, j] = 1 #1 is the up left arrow\n",
    "            else:\n",
    "                if M[i, j] == p2:\n",
    "                    P[i, j] = 2 #2 is the up arrow\n",
    "                else:\n",
    "                    P[i, j] = 3 #3 is the left arrow \n",
    "            \n",
    "            \n",
    "    return M, P\n",
    "    \n",
    "    \n",
    "    "
   ]
  },
  {
   "cell_type": "markdown",
   "metadata": {},
   "source": [
    "Testing:"
   ]
  },
  {
   "cell_type": "code",
   "execution_count": 18,
   "metadata": {
    "scrolled": true
   },
   "outputs": [
    {
     "name": "stdout",
     "output_type": "stream",
     "text": [
      "[[ 0  0  0  0  0  0  0  0  0  0  0]\n",
      " [ 0 -1  2  2  1  2  1  2  2  1  0]\n",
      " [ 0 -1  1  1  1  1  1  1  1  1  3]\n",
      " [ 0 -1  0  0  0  0  0  0  0  0  3]\n",
      " [ 0 -1  1  2  1  2  1  2  2  1  2]\n",
      " [ 0  2  1  1  4  3  2  1  1  4  3]\n",
      " [ 0  1  1  0  3  3  5  4  3  3  3]\n",
      " [ 0  0  0  0  2  2  4  4  3  2  5]\n",
      " [ 0 -1  2  2  1  4  3  6  6  5  4]\n",
      " [ 0 -1  1  4  3  3  3  5  8  7  6]\n",
      " [ 0 -1  0  3  3  2  2  4  7  7  9]]\n",
      "[[ 0  0  0  0  0  0  0  0  0  0  0]\n",
      " [ 0 -1  2  2  1  2  1  2  2  1  0]\n",
      " [ 0 -1  1  1  1  1  1  1  1  1  3]\n",
      " [ 0 -1  0  0  0  0  0  0  0  0  3]\n",
      " [ 0 -1  1  2  1  2  1  2  2  1  2]\n",
      " [ 0  2  1  1  4  3  2  1  1  4  3]\n",
      " [ 0  1  1  0  3  3  5  4  3  3  3]\n",
      " [ 0  0  0  0  2  2  4  4  3  2  5]\n",
      " [ 0 -1  2  2  1  4  3  6  6  5  4]\n",
      " [ 0 -1  1  4  3  3  3  5  8  7  6]\n",
      " [ 0 -1  0  3  3  2  2  4  7  7  9]]\n",
      "[[0 0 0 0 0 0 0 0 0 0 0]\n",
      " [0 1 1 1 3 1 3 1 1 3 3]\n",
      " [0 1 2 1 1 2 1 2 1 1 1]\n",
      " [0 1 2 1 1 1 1 1 1 1 1]\n",
      " [0 1 1 1 3 1 3 1 1 3 2]\n",
      " [0 1 3 2 1 3 3 2 1 1 3]\n",
      " [0 2 1 1 2 1 1 3 3 2 1]\n",
      " [0 2 1 1 2 1 2 1 1 1 1]\n",
      " [0 1 1 1 2 1 2 1 1 3 2]\n",
      " [0 1 1 1 3 1 1 1 1 3 3]\n",
      " [0 1 2 2 1 1 1 2 2 1 1]]\n",
      "[[0 0 0 0 0 0 0 0 0 0 0]\n",
      " [0 1 1 1 3 1 3 1 1 3 3]\n",
      " [0 1 2 1 1 2 1 2 1 1 1]\n",
      " [0 1 2 1 1 1 1 1 1 1 1]\n",
      " [0 1 1 1 3 1 3 1 1 3 2]\n",
      " [0 1 3 2 1 3 3 2 1 1 3]\n",
      " [0 2 1 1 2 1 1 3 3 2 1]\n",
      " [0 2 1 1 2 1 2 1 1 1 1]\n",
      " [0 1 1 1 2 1 2 1 1 3 2]\n",
      " [0 1 1 1 3 1 1 1 1 3 3]\n",
      " [0 1 2 2 1 1 1 2 2 1 1]]\n"
     ]
    }
   ],
   "source": [
    "X, Y = 'caacbdacca', 'bccbcdccba'\n",
    "print(smith_waterman(X, Y)[0])\n",
    "print(smith_memo(X, Y)[0])\n",
    "print(smith_waterman(X, Y)[1])\n",
    "print(smith_memo(X, Y)[1])"
   ]
  },
  {
   "cell_type": "code",
   "execution_count": null,
   "metadata": {},
   "outputs": [],
   "source": []
  }
 ],
 "metadata": {
  "kernelspec": {
   "display_name": "Python 3",
   "language": "python",
   "name": "python3"
  },
  "language_info": {
   "codemirror_mode": {
    "name": "ipython",
    "version": 3
   },
   "file_extension": ".py",
   "mimetype": "text/x-python",
   "name": "python",
   "nbconvert_exporter": "python",
   "pygments_lexer": "ipython3",
   "version": "3.8.3"
  }
 },
 "nbformat": 4,
 "nbformat_minor": 4
}
