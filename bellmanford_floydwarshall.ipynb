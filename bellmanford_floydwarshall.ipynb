{
 "cells": [
  {
   "cell_type": "markdown",
   "metadata": {},
   "source": [
    "## Kelly Tornetta"
   ]
  },
  {
   "cell_type": "markdown",
   "metadata": {},
   "source": [
    "## Bellman-Ford & Floyd-Warshall Algorithms"
   ]
  },
  {
   "cell_type": "code",
   "execution_count": 1,
   "metadata": {},
   "outputs": [],
   "source": [
    "import random\n",
    "from random import shuffle\n",
    "import numpy as np\n",
    "import time"
   ]
  },
  {
   "cell_type": "markdown",
   "metadata": {},
   "source": [
    "### Random Graph Adjacency Matrix"
   ]
  },
  {
   "cell_type": "markdown",
   "metadata": {},
   "source": [
    "This function generates a random weighted directed graph represented by an adjacency matrix given a specified number of nodes, number of edges, and weight bound (-w, w)."
   ]
  },
  {
   "cell_type": "code",
   "execution_count": 2,
   "metadata": {},
   "outputs": [],
   "source": [
    "def random_graph(num_nodes, num_edges, weight_bound):\n",
    "    if num_nodes < 1 or num_edges < 1  or num_edges > num_nodes**2 or weight_bound < 1:\n",
    "        print(\"num_nodes must be greater than 0\",\n",
    "              \"\\nnum_edges must be greater than 0\",\n",
    "              \"\\nnum_edges must be in range ( 0 ,\", num_nodes*(num_nodes-1), \") if num_nodes =\", num_nodes,\n",
    "              \"\\nweight_bound must be greater than 0\")\n",
    "        return\n",
    "    \n",
    "    n = num_nodes\n",
    "    \n",
    "    graph = []\n",
    "    for i in range(n):\n",
    "        graph.append([0]*n)\n",
    "    \n",
    "    to_fill = num_nodes*(num_nodes - 1)\n",
    "    \n",
    "    all_weights = list(range(-weight_bound, weight_bound+1))\n",
    "\n",
    "    ints = random.choices(all_weights, k = num_edges)\n",
    "    infs = [float(\"inf\")]*(to_fill - num_edges)\n",
    "\n",
    "    list_weights = ints + infs\n",
    "    random.shuffle(list_weights)\n",
    "    \n",
    "    for i in range(n):\n",
    "        for j in range(n):\n",
    "            if i != j:\n",
    "                new_weight = random.choice(list_weights)\n",
    "                graph[i][j] = new_weight \n",
    "                \n",
    "                list_weights.remove(new_weight)\n",
    "    \n",
    "    return graph"
   ]
  },
  {
   "cell_type": "code",
   "execution_count": 3,
   "metadata": {
    "scrolled": true
   },
   "outputs": [
    {
     "data": {
      "text/plain": [
       "[[0, 4, -2, inf, inf],\n",
       " [inf, 0, -1, 1, inf],\n",
       " [1, 2, 0, 0, -3],\n",
       " [2, inf, inf, 0, 3],\n",
       " [inf, inf, inf, inf, 0]]"
      ]
     },
     "execution_count": 3,
     "metadata": {},
     "output_type": "execute_result"
    }
   ],
   "source": [
    "random_graph(5, 10, 5)"
   ]
  },
  {
   "cell_type": "code",
   "execution_count": 4,
   "metadata": {
    "scrolled": true
   },
   "outputs": [
    {
     "name": "stdout",
     "output_type": "stream",
     "text": [
      "num_nodes must be greater than 0 \n",
      "num_edges must be greater than 0 \n",
      "num_edges must be in range ( 0 , 20 ) if num_nodes = 5 \n",
      "weight_bound must be greater than 0\n"
     ]
    }
   ],
   "source": [
    "random_graph(5, 10, -3)"
   ]
  },
  {
   "cell_type": "markdown",
   "metadata": {},
   "source": [
    "### Bellman-Ford"
   ]
  },
  {
   "cell_type": "code",
   "execution_count": 5,
   "metadata": {},
   "outputs": [],
   "source": [
    "def bellman(G, s):\n",
    "    n = len(G)\n",
    "    \n",
    "    #INIT-SINGLE-SOURCE(G,s)\n",
    "    d = [float(\"Inf\")]*n\n",
    "    d[s] = 0\n",
    "    #print(d)\n",
    "    \n",
    "    #RELAX(u,v,w)\n",
    "    for i in range(n-1):\n",
    "        for u in range(n-1):\n",
    "            for v in range(n-1):\n",
    "                if (G[u][v] != float(\"Inf\") and d[v] > d[u] + G[u][v]):\n",
    "                    d[v] = d[u] + G[u][v]\n",
    "    \n",
    "    #BELLMAN\n",
    "    for u in range(n-1):\n",
    "        for v in range(n-1):\n",
    "            if (G[u][v] != float(\"Inf\") and d[v] > d[u] + G[u][v]):\n",
    "                return False\n",
    "                \n",
    "    return True\n",
    "                "
   ]
  },
  {
   "cell_type": "markdown",
   "metadata": {},
   "source": [
    "#### Example test"
   ]
  },
  {
   "cell_type": "code",
   "execution_count": 6,
   "metadata": {
    "scrolled": true
   },
   "outputs": [
    {
     "name": "stdout",
     "output_type": "stream",
     "text": [
      "True\n",
      "\n",
      "Bellman-Ford execution took 0.0003299713134765625 seconds\n"
     ]
    }
   ],
   "source": [
    "G = [[0, 10, float(\"Inf\"), 5, float(\"Inf\")],\n",
    "     [float(\"Inf\"), 0, 1, 2, float(\"Inf\")],\n",
    "     [float(\"Inf\"), float(\"Inf\"), 0, float(\"Inf\"), 4],\n",
    "     [float(\"Inf\"), 3, 9, 0, 2],\n",
    "     [7, float(\"Inf\"), 6, float(\"Inf\"), 0]]\n",
    "\n",
    "start_time = time.time()\n",
    "print(bellman(G, 0))\n",
    "print(\"\\nBellman-Ford execution took %s seconds\" % (time.time() - start_time), end = \"\\n\")"
   ]
  },
  {
   "cell_type": "markdown",
   "metadata": {},
   "source": [
    "#### Random graph"
   ]
  },
  {
   "cell_type": "code",
   "execution_count": 7,
   "metadata": {
    "scrolled": true
   },
   "outputs": [
    {
     "name": "stdout",
     "output_type": "stream",
     "text": [
      "True\n",
      "\n",
      "Bellman-Ford execution took 0.0003571510314941406 seconds\n"
     ]
    }
   ],
   "source": [
    "g = random_graph(5, 5, 10)\n",
    "start_time = time.time()\n",
    "print(bellman(g, 0))\n",
    "print(\"\\nBellman-Ford execution took %s seconds\" % (time.time() - start_time), end = \"\\n\")"
   ]
  },
  {
   "cell_type": "markdown",
   "metadata": {},
   "source": [
    "### Floyd-Warshall"
   ]
  },
  {
   "cell_type": "markdown",
   "metadata": {},
   "source": [
    "Note: uncomment last two print statements to print the shortest weight matrix $D^{(n)}$ and predecessor matrix $\\Pi^{(n)}$ for each iteration."
   ]
  },
  {
   "cell_type": "code",
   "execution_count": 8,
   "metadata": {},
   "outputs": [],
   "source": [
    "def floyd(W):\n",
    "    n = len(W)\n",
    "    D = W\n",
    "    print(\"D\", 0, \"is:\", D, \"\\n\")\n",
    "    \n",
    "    pi = []\n",
    "    for i in range(n):\n",
    "        pi.append([0]*n)\n",
    "    \n",
    "    for i in range(n):\n",
    "        for j in range(n):\n",
    "            if (i != j and D[i][j] != float(\"Inf\")):\n",
    "                pi[i][j] = i+1\n",
    "    print(\"PI\", 0, \"is:\", pi, \"\\n\")\n",
    "    \n",
    "    \n",
    "    for k in range(n):\n",
    "        for i in range(n):\n",
    "            for j in range(n):\n",
    "                if D[i][j] > (D[i][k] + D[k][j]):\n",
    "                    pi[i][j] = pi[k][j]\n",
    "                \n",
    "                \n",
    "                D[i][j] = min(D[i][j], D[i][k] + D[k][j])\n",
    "                \n",
    "                \n",
    "                    \n",
    "        #print(\"PI\", k+1, \"=\\n\", pi)\n",
    "        #print(\"D\", k+1, \"=\\n\", D)\n",
    "    return(D, pi)"
   ]
  },
  {
   "cell_type": "markdown",
   "metadata": {},
   "source": [
    "#### Example test"
   ]
  },
  {
   "cell_type": "code",
   "execution_count": 9,
   "metadata": {},
   "outputs": [
    {
     "name": "stdout",
     "output_type": "stream",
     "text": [
      "D 0 is: [[0, 3, 8, inf, -4], [inf, 0, inf, 1, 7], [inf, 4, 0, inf, inf], [2, inf, -5, 0, inf], [inf, inf, inf, 6, 0]] \n",
      "\n",
      "PI 0 is: [[0, 1, 1, 0, 1], [0, 0, 0, 2, 2], [0, 3, 0, 0, 0], [4, 0, 4, 0, 0], [0, 0, 0, 5, 0]] \n",
      "\n",
      "D 5 is: [[0, 1, -3, 2, -4], [3, 0, -4, 1, -1], [7, 4, 0, 5, 3], [2, -1, -5, 0, -2], [8, 5, 1, 6, 0]] \n",
      "\n",
      "PI 5 is: [[0, 3, 4, 5, 1], [4, 0, 4, 2, 1], [4, 3, 0, 2, 1], [4, 3, 4, 0, 1], [4, 3, 4, 5, 0]]\n",
      "\n",
      "Floyd-Warshall execution took 0.0016372203826904297 seconds\n"
     ]
    }
   ],
   "source": [
    "G = [[0, 3, 8, float(\"Inf\"), -4],\n",
    "     [float(\"Inf\"), 0, float(\"Inf\"), 1, 7],\n",
    "     [float(\"Inf\"), 4, 0, float(\"Inf\"), float(\"Inf\")],\n",
    "     [2, float(\"Inf\"), -5, 0, float(\"Inf\")],\n",
    "     [float(\"Inf\"), float(\"Inf\"), float(\"Inf\"), 6, 0]]\n",
    "\n",
    "start_time = time.time()\n",
    "\n",
    "D, pi = floyd(G)\n",
    "print(\"D\", len(G), \"is:\", D, \"\\n\\nPI\", len(G), \"is:\", pi)\n",
    "\n",
    "print(\"\\nFloyd-Warshall execution took %s seconds\" % (time.time() - start_time), end = \"\\n\")"
   ]
  },
  {
   "cell_type": "markdown",
   "metadata": {},
   "source": [
    "#### Random graph"
   ]
  },
  {
   "cell_type": "code",
   "execution_count": 10,
   "metadata": {},
   "outputs": [
    {
     "name": "stdout",
     "output_type": "stream",
     "text": [
      "D 0 is: [[0, -3, inf, inf, -5], [inf, 0, -4, inf, inf], [inf, inf, 0, inf, inf], [1, inf, inf, 0, inf], [inf, inf, inf, -5, 0]] \n",
      "\n",
      "PI 0 is: [[0, 1, 0, 0, 1], [0, 0, 2, 0, 0], [0, 0, 0, 0, 0], [4, 0, 0, 0, 0], [0, 0, 0, 5, 0]] \n",
      "\n",
      "D 5 is: [[-9, -12, -16, -10, -14], [inf, 0, -4, inf, inf], [inf, inf, 0, inf, inf], [-8, -11, -15, -9, -13], [-13, -16, -20, -14, -18]] \n",
      "\n",
      "PI is: [[4, 1, 2, 5, 1], [0, 0, 2, 0, 0], [0, 0, 0, 0, 0], [4, 1, 2, 5, 1], [4, 1, 2, 5, 1]]\n",
      "\n",
      "Floyd-Warshall execution took 0.0007407665252685547 seconds\n"
     ]
    }
   ],
   "source": [
    "G2 = random_graph(5, 5, 5)\n",
    "\n",
    "start_time = time.time()\n",
    "\n",
    "D, pi = floyd(G2)\n",
    "print(\"D\", len(G), \"is:\", D, \"\\n\\nPI is:\", pi)\n",
    "\n",
    "print(\"\\nFloyd-Warshall execution took %s seconds\" % (time.time() - start_time), end = \"\\n\")"
   ]
  },
  {
   "cell_type": "code",
   "execution_count": null,
   "metadata": {},
   "outputs": [],
   "source": []
  },
  {
   "cell_type": "code",
   "execution_count": null,
   "metadata": {},
   "outputs": [],
   "source": []
  }
 ],
 "metadata": {
  "kernelspec": {
   "display_name": "Python 3",
   "language": "python",
   "name": "python3"
  },
  "language_info": {
   "codemirror_mode": {
    "name": "ipython",
    "version": 3
   },
   "file_extension": ".py",
   "mimetype": "text/x-python",
   "name": "python",
   "nbconvert_exporter": "python",
   "pygments_lexer": "ipython3",
   "version": "3.8.3"
  }
 },
 "nbformat": 4,
 "nbformat_minor": 4
}
