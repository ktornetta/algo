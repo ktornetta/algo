{
 "cells": [
  {
   "cell_type": "markdown",
   "metadata": {},
   "source": [
    "### Merge Sort\n",
    "### Kelly Tornetta"
   ]
  },
  {
   "cell_type": "code",
   "execution_count": 9,
   "metadata": {},
   "outputs": [],
   "source": [
    "#importing libraries\n",
    "\n",
    "import numpy as np\n",
    "import time"
   ]
  },
  {
   "cell_type": "code",
   "execution_count": 10,
   "metadata": {},
   "outputs": [],
   "source": [
    "#function to use merge sort algorithm to sort a given array\n",
    "\n",
    "def mergeSort(input_array):\n",
    "\n",
    "    if len(input_array)  > 1:\n",
    "        q = len(input_array)//2                    \n",
    "        L = input_array[:q]                        \n",
    "        R = input_array[q:]                     \n",
    "    \n",
    "        \n",
    "        mergeSort(L)                               \n",
    "        mergeSort(R)                               \n",
    "        \n",
    "        i = 0                                      \n",
    "        j = 0                                      \n",
    "        k = 0                                      \n",
    "        \n",
    "        n1 = len(L)                                \n",
    "        n2 = len(R)                                \n",
    "\n",
    "        while i < n1 and j < n2:                   \n",
    "            if L[i] <= R[j]:                       \n",
    "                input_array[k] = L[i]              \n",
    "                i = i + 1                          \n",
    "                \n",
    "            else:                                  \n",
    "                input_array[k] = R[j]              \n",
    "                j = j + 1                          \n",
    "            \n",
    "            k = k + 1                              \n",
    "\n",
    "            \n",
    "\n",
    "        while i < n1:                              \n",
    "            input_array[k] = L[i]                  \n",
    "            i = i + 1                              \n",
    "            k = k + 1                              \n",
    "            \n",
    "        while j < n2:                              \n",
    "            input_array[k] = R[j]                  \n",
    "            j = j + 1                              \n",
    "            k = k + 1                              \n",
    "    "
   ]
  },
  {
   "cell_type": "code",
   "execution_count": 11,
   "metadata": {},
   "outputs": [],
   "source": [
    "#function to create a random array of a given length\n",
    "\n",
    "def createRandomArray(length):\n",
    "    random_array = np.random.randint(length, size = (length))   \n",
    "    random_array = random_array.tolist()                     \n",
    "    return random_array"
   ]
  },
  {
   "cell_type": "code",
   "execution_count": 12,
   "metadata": {},
   "outputs": [],
   "source": [
    "#function to create a sorted array of a given length\n",
    "\n",
    "def createSortedArray(length):\n",
    "    sorted_array = list(range(0, length))                    \n",
    "    return sorted_array"
   ]
  },
  {
   "cell_type": "code",
   "execution_count": 13,
   "metadata": {},
   "outputs": [],
   "source": [
    "#function to create a reverse sorted array of a given length\n",
    "\n",
    "def createReverseArray(length):\n",
    "    reverse_array = np.arange(length, 0, -1)                 \n",
    "    reverse_array = reverse_array.tolist()                   \n",
    "    return reverse_array"
   ]
  },
  {
   "cell_type": "code",
   "execution_count": 14,
   "metadata": {},
   "outputs": [],
   "source": [
    "#function to check if the output sorted array is actually sorted\n",
    "\n",
    "def checkSorted(sorted_array):\n",
    "    for i in range(1, len(sorted_array)):                   \n",
    "        if sorted_array[i-1] > sorted_array[i]:             \n",
    "            print(\"Array is NOT sorted!\", end = \"\\n\")       \n",
    "            return False\n",
    "    return True                                             "
   ]
  },
  {
   "cell_type": "code",
   "execution_count": 15,
   "metadata": {},
   "outputs": [],
   "source": [
    "#main function to implement merge sort on different types/lengths of arrays\n",
    "\n",
    "def main(number_of_elements, array_type):                   \n",
    "    startTime = time.time()                                 \n",
    "    if array_type == 1:                                     \n",
    "        array = createSortedArray(number_of_elements)\n",
    "    elif array_type == -1:                                  \n",
    "        array = createReverseArray(number_of_elements)\n",
    "    elif array_type == 0:                                   \n",
    "        array = createRandomArray(number_of_elements)\n",
    "    else:                                                   \n",
    "        print(\"ERROR: Incorrect Array Type\\n\",\n",
    "             \"[1]: Sorted Array\\n\",\n",
    "             \"[-1]: Reverse Sorted Array\\n\",\n",
    "             \"[0]: Random Array\")\n",
    "        return 0\n",
    "    print(\"Pre-sorted array is:\", end = \"\\n\")               \n",
    "    print(array[0:20])\n",
    "    mergeSort(array)                                        \n",
    "    print(\"Sorted array is:\", end = \"\\n\")\n",
    "    print(array[0:20])                                      \n",
    "    if checkSorted(array) == True:                          \n",
    "        print(\"Array is sorted!\", end = \"\\n\")\n",
    "    print(\"--- Execution took %s seconds ---\" % (time.time() - startTime), end = \"\\n\") "
   ]
  },
  {
   "cell_type": "code",
   "execution_count": 16,
   "metadata": {
    "scrolled": false
   },
   "outputs": [
    {
     "name": "stdout",
     "output_type": "stream",
     "text": [
      "Pre-sorted array is:\n",
      "[5855, 9460, 3948, 3892, 6717, 7313, 380, 2453, 3484, 3959, 8517, 945, 3491, 2084, 8293, 2841, 7594, 4728, 6327, 5628]\n",
      "Sorted array is:\n",
      "[0, 1, 4, 5, 5, 5, 7, 10, 10, 11, 12, 12, 12, 13, 15, 15, 16, 17, 17, 18]\n",
      "Array is sorted!\n",
      "--- Execution took 0.04026532173156738 seconds ---\n"
     ]
    }
   ],
   "source": [
    "#run through different values of array length with all of the array types\n",
    "\n",
    "main(10000, 0)"
   ]
  },
  {
   "cell_type": "code",
   "execution_count": null,
   "metadata": {},
   "outputs": [],
   "source": []
  }
 ],
 "metadata": {
  "kernelspec": {
   "display_name": "Python 3",
   "language": "python",
   "name": "python3"
  },
  "language_info": {
   "codemirror_mode": {
    "name": "ipython",
    "version": 3
   },
   "file_extension": ".py",
   "mimetype": "text/x-python",
   "name": "python",
   "nbconvert_exporter": "python",
   "pygments_lexer": "ipython3",
   "version": "3.8.3"
  }
 },
 "nbformat": 4,
 "nbformat_minor": 4
}
