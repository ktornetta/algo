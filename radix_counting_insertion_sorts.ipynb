{
 "cells": [
  {
   "cell_type": "markdown",
   "metadata": {},
   "source": [
    "### Kelly Tornetta\n",
    "### Radix Sort with Insertion Sort and Counting Sort"
   ]
  },
  {
   "cell_type": "code",
   "execution_count": 1,
   "metadata": {},
   "outputs": [],
   "source": [
    "import random\n",
    "import string\n",
    "import numpy as np\n",
    "import time"
   ]
  },
  {
   "cell_type": "code",
   "execution_count": 2,
   "metadata": {},
   "outputs": [],
   "source": [
    "def random_string(length):\n",
    "    letters = string.ascii_lowercase\n",
    "    output = ''.join(random.choice(letters) for i in range(length))\n",
    "    return output"
   ]
  },
  {
   "cell_type": "code",
   "execution_count": 3,
   "metadata": {
    "scrolled": true
   },
   "outputs": [
    {
     "data": {
      "text/plain": [
       "'zpiegawazu'"
      ]
     },
     "execution_count": 3,
     "metadata": {},
     "output_type": "execute_result"
    }
   ],
   "source": [
    "random_string(10)"
   ]
  },
  {
   "cell_type": "code",
   "execution_count": 4,
   "metadata": {},
   "outputs": [],
   "source": [
    "def random_string_array(min_length, max_length, num_strings):\n",
    "    if min_length < 1: \n",
    "        print('ERROR: String must be of minimum length 1')\n",
    "        return\n",
    "    \n",
    "    string_array = []\n",
    "    for i in range(num_strings):\n",
    "        length = np.random.randint(min_length, max_length+1)\n",
    "        rand_string = random_string(length)\n",
    "        string_array.append(rand_string)\n",
    "        \n",
    "    return string_array\n",
    "        "
   ]
  },
  {
   "cell_type": "code",
   "execution_count": 5,
   "metadata": {},
   "outputs": [
    {
     "data": {
      "text/plain": [
       "['h', 'hoda', 'mbi', 'bwsz', 'r', 'dgt', 'i', 'zk', 'u', 'yl']"
      ]
     },
     "execution_count": 5,
     "metadata": {},
     "output_type": "execute_result"
    }
   ],
   "source": [
    "random_string_array(1, 4, 10)"
   ]
  },
  {
   "cell_type": "code",
   "execution_count": 6,
   "metadata": {},
   "outputs": [],
   "source": [
    "def check_sorted(string):\n",
    "    for i in range(len(string) - 1):\n",
    "        if string[i] > string[i+1]: \n",
    "            print(\"ERROR: NOT SORTED\")\n",
    "            return False\n",
    "    else: return True"
   ]
  },
  {
   "cell_type": "code",
   "execution_count": 7,
   "metadata": {},
   "outputs": [
    {
     "data": {
      "text/plain": [
       "True"
      ]
     },
     "execution_count": 7,
     "metadata": {},
     "output_type": "execute_result"
    }
   ],
   "source": [
    "check_sorted(['abbcdde', 'dsa'])"
   ]
  },
  {
   "cell_type": "code",
   "execution_count": 8,
   "metadata": {},
   "outputs": [
    {
     "name": "stdout",
     "output_type": "stream",
     "text": [
      "ERROR: NOT SORTED\n"
     ]
    },
    {
     "data": {
      "text/plain": [
       "False"
      ]
     },
     "execution_count": 8,
     "metadata": {},
     "output_type": "execute_result"
    }
   ],
   "source": [
    "check_sorted(['cba', 'a'])"
   ]
  },
  {
   "cell_type": "markdown",
   "metadata": {},
   "source": [
    "### Implement Insertion Sort by Position d"
   ]
  },
  {
   "cell_type": "markdown",
   "metadata": {},
   "source": [
    "#### First: Insertion Sort on Entire Array A"
   ]
  },
  {
   "cell_type": "code",
   "execution_count": 9,
   "metadata": {},
   "outputs": [],
   "source": [
    "def insertion_sort(A):\n",
    "    n = len(A)\n",
    "    for j in range(1, n):\n",
    "        key = A[j]\n",
    "\n",
    "        i = j-1\n",
    "        while i >= 0 and A[i] > key:\n",
    "            A[i+1] = A[i]\n",
    "            i -= 1\n",
    "\n",
    "        A[i+1] = key\n",
    "    return A           "
   ]
  },
  {
   "cell_type": "code",
   "execution_count": 10,
   "metadata": {},
   "outputs": [
    {
     "data": {
      "text/plain": [
       "['aj', 'bxklc', 'fi', 'karh', 'nkhj', 'qgjp', 'rfaf', 'trc', 'yigp', 'zei']"
      ]
     },
     "execution_count": 10,
     "metadata": {},
     "output_type": "execute_result"
    }
   ],
   "source": [
    "rand_arr = random_string_array(2, 5, 10)\n",
    "insertion_sort(rand_arr)"
   ]
  },
  {
   "cell_type": "markdown",
   "metadata": {},
   "source": [
    "#### Next: Insertion Sort by Position d"
   ]
  },
  {
   "cell_type": "code",
   "execution_count": 11,
   "metadata": {},
   "outputs": [],
   "source": [
    "def insertion_sort_pos(A, d):\n",
    "    n = len(A)\n",
    "    \n",
    "    new_A = []\n",
    "    A_less = []\n",
    "    \n",
    "    for  i in range(0, n):\n",
    "        if len(A[i]) > d:\n",
    "            new_A.append(A[i])\n",
    "        else:\n",
    "            A_less.append(A[i])\n",
    "    \n",
    "    new_n = len(new_A)\n",
    "    \n",
    "    for j in range(1, new_n):\n",
    "        key = new_A[j]\n",
    "        key_d = new_A[j][d]\n",
    "        \n",
    "        i = j-1\n",
    "        \n",
    "        while i >= 0 and new_A[i][d] > key_d:\n",
    "            new_A[i+1] = new_A[i]\n",
    "            i -= 1\n",
    "        \n",
    "        new_A[i+1] = key\n",
    "    \n",
    "    return A_less + new_A"
   ]
  },
  {
   "cell_type": "code",
   "execution_count": 12,
   "metadata": {},
   "outputs": [
    {
     "data": {
      "text/plain": [
       "['aj', 'fi', 'trc', 'zei', 'rfaf', 'karh', 'nkhj', 'bxklc', 'qgjp', 'yigp']"
      ]
     },
     "execution_count": 12,
     "metadata": {},
     "output_type": "execute_result"
    }
   ],
   "source": [
    "insertion_sort_pos(rand_arr, 3)"
   ]
  },
  {
   "cell_type": "markdown",
   "metadata": {},
   "source": [
    "### Implement Radix Sort with Insertion Sort"
   ]
  },
  {
   "cell_type": "code",
   "execution_count": 13,
   "metadata": {},
   "outputs": [],
   "source": [
    "def radix_sort_is(A):\n",
    "    i = len(max(A, key = len))\n",
    "    B = A\n",
    "    \n",
    "    while i >= 0:\n",
    "        B = insertion_sort_pos(B, i)\n",
    "        i -= 1\n",
    "    \n",
    "    return B\n",
    "        "
   ]
  },
  {
   "cell_type": "code",
   "execution_count": 14,
   "metadata": {},
   "outputs": [
    {
     "data": {
      "text/plain": [
       "['aj', 'bxklc', 'fi', 'karh', 'nkhj', 'qgjp', 'rfaf', 'trc', 'yigp', 'zei']"
      ]
     },
     "execution_count": 14,
     "metadata": {},
     "output_type": "execute_result"
    }
   ],
   "source": [
    "radix_sort_is(rand_arr)"
   ]
  },
  {
   "cell_type": "markdown",
   "metadata": {},
   "source": [
    "### Implement Counting Sort by Position d"
   ]
  },
  {
   "cell_type": "markdown",
   "metadata": {},
   "source": [
    "#### First: Counting Sort on String"
   ]
  },
  {
   "cell_type": "code",
   "execution_count": 15,
   "metadata": {},
   "outputs": [],
   "source": [
    "def counting_sort(A):\n",
    "    k = 256\n",
    "    n = len(A)\n",
    "    \n",
    "    B = [\"\" for _ in A]\n",
    "    C = np.zeros(k, dtype=int)\n",
    "    \n",
    "    for j in range(0, n):\n",
    "        C[ord(A[j])] = C[ord(A[j])] + 1\n",
    "    \n",
    "    for i in range(1, k):\n",
    "        C[i] = C[i] + C[i-1]\n",
    "    \n",
    "    for j in range(n):\n",
    "        B[C[ord(A[j])] - 1] = A[j]\n",
    "        C[ord(A[j])] = C[ord(A[j])] - 1\n",
    "    \n",
    "    B = ''.join(B)\n",
    "    \n",
    "    return B"
   ]
  },
  {
   "cell_type": "code",
   "execution_count": 16,
   "metadata": {
    "scrolled": true
   },
   "outputs": [
    {
     "data": {
      "text/plain": [
       "'bjkotuuwzz'"
      ]
     },
     "execution_count": 16,
     "metadata": {},
     "output_type": "execute_result"
    }
   ],
   "source": [
    "counting_sort(random_string(10))"
   ]
  },
  {
   "cell_type": "markdown",
   "metadata": {},
   "source": [
    "#### Next: Counting Sort on Array by Position d"
   ]
  },
  {
   "cell_type": "code",
   "execution_count": 17,
   "metadata": {},
   "outputs": [],
   "source": [
    "def counting_sort_array(A, d):\n",
    "    n = len(A)\n",
    "    k = 256\n",
    "    \n",
    "    C = np.zeros(k, dtype=int)\n",
    "    \n",
    "    new_A = []\n",
    "    \n",
    "    B_less = []\n",
    "    \n",
    "    for i in range(0, n):\n",
    "        if len(A[i]) > d:\n",
    "            new_A.append(A[i])\n",
    "        else:\n",
    "            B_less.append(A[i])\n",
    "    \n",
    "    new_n = len(new_A)\n",
    "    B = [\"\"]*new_n\n",
    "    \n",
    "    for j in range(0, new_n):\n",
    "        index = new_A[j][d]\n",
    "        C[ord(index)] += 1\n",
    "    \n",
    "    for i in range(1, k):\n",
    "        C[i] += C[i-1]\n",
    "    \n",
    "    j = new_n-1\n",
    "    while j >= 0:\n",
    "        index = new_A[j][d]\n",
    "        B[C[ord(index)] - 1] = new_A[j]\n",
    "        C[ord(index)] -= 1\n",
    "        j -= 1\n",
    "    \n",
    "    return B_less + B  "
   ]
  },
  {
   "cell_type": "code",
   "execution_count": 18,
   "metadata": {},
   "outputs": [
    {
     "data": {
      "text/plain": [
       "['aj', 'fi', 'trc', 'zei', 'rfaf', 'karh', 'nkhj', 'bxklc', 'qgjp', 'yigp']"
      ]
     },
     "execution_count": 18,
     "metadata": {},
     "output_type": "execute_result"
    }
   ],
   "source": [
    "counting_sort_array(rand_arr, 3)"
   ]
  },
  {
   "cell_type": "markdown",
   "metadata": {},
   "source": [
    "### Implement Radix Sort with Counting Sort"
   ]
  },
  {
   "cell_type": "code",
   "execution_count": 19,
   "metadata": {},
   "outputs": [],
   "source": [
    "def radix_sort_cs(A):\n",
    "    i = len(max(A, key = len))\n",
    "    B = A\n",
    "    \n",
    "    while i >= 0:\n",
    "        B = counting_sort_array(B, i)\n",
    "        i -= 1\n",
    "    \n",
    "    return B\n",
    "        "
   ]
  },
  {
   "cell_type": "code",
   "execution_count": 20,
   "metadata": {},
   "outputs": [
    {
     "data": {
      "text/plain": [
       "['aj', 'bxklc', 'fi', 'karh', 'nkhj', 'qgjp', 'rfaf', 'trc', 'yigp', 'zei']"
      ]
     },
     "execution_count": 20,
     "metadata": {},
     "output_type": "execute_result"
    }
   ],
   "source": [
    "radix_sort_cs(rand_arr)"
   ]
  },
  {
   "cell_type": "markdown",
   "metadata": {},
   "source": [
    "### Main Function for Testing"
   ]
  },
  {
   "cell_type": "code",
   "execution_count": 23,
   "metadata": {},
   "outputs": [],
   "source": [
    "def sort_array(sort_type, n, m): #n is array size, m is length of rand strings\n",
    "    if sort_type not in [0, 1]: \n",
    "        print('sort_type = 0: Insertion-Radix')\n",
    "        print('sort_type = 1: Counting_Radix')\n",
    "        return\n",
    "    \n",
    "    startTime = time.time()\n",
    "    array_to_sort = random_string_array(1, m, n)\n",
    "    \n",
    "    if sort_type ==0: #insertion radix\n",
    "        print(\"Sorting type is insertion-radix.\\n\")\n",
    "        print('Array to sort is: \\n', array_to_sort[0:10])\n",
    "        \n",
    "        sorted_array = radix_sort_is(array_to_sort)\n",
    "        \n",
    "        if check_sorted(sorted_array) == True:\n",
    "            print('\\nArray is sorted!')\n",
    "            print('\\nSorted array is: \\n', sorted_array[0:10])\n",
    "        else: print('ERROR: Array not sorted!')\n",
    "    \n",
    "    if sort_type == 1: #counting radix\n",
    "        print(\"Sorting type is counting-radix.\\n\")\n",
    "        print('Array to sort is: \\n', array_to_sort[0:10])\n",
    "        \n",
    "        sorted_array = radix_sort_cs(array_to_sort)\n",
    "        \n",
    "        if check_sorted(sorted_array) == True:\n",
    "            print('\\nArray is sorted!')\n",
    "            print('\\nSorted array is: \\n', sorted_array[0:10])\n",
    "        else: print('ERROR: Array not sorted!')\n",
    "        \n",
    "    print(\"\\n--- Execution took %s seconds ---\" % (time.time() - startTime), end = \"\\n\")"
   ]
  },
  {
   "cell_type": "code",
   "execution_count": 22,
   "metadata": {},
   "outputs": [
    {
     "name": "stdout",
     "output_type": "stream",
     "text": [
      "Sorting type is insertion-radix.\n",
      "\n",
      "Array to sort is: \n",
      " ['ietdjx', 'ul', 'jp', 'eopwjmcbrc', 'fdgmrekwp', 'ehaaavyk', 'salfuvz', 'wgm', 'gdwqpoud', 'r']\n",
      "\n",
      "Array is sorted!\n",
      "\n",
      "Sorted array is: \n",
      " ['aeu', 'aft', 'alvnjpr', 'aqp', 'azv', 'bjmpu', 'buerbs', 'c', 'cb', 'ccaklg']\n",
      "\n",
      "--- Execution took 0.0027000904083251953 seconds ---\n"
     ]
    }
   ],
   "source": [
    "sort_array(0, 100, 10)"
   ]
  },
  {
   "cell_type": "code",
   "execution_count": null,
   "metadata": {},
   "outputs": [],
   "source": []
  }
 ],
 "metadata": {
  "kernelspec": {
   "display_name": "Python 3",
   "language": "python",
   "name": "python3"
  },
  "language_info": {
   "codemirror_mode": {
    "name": "ipython",
    "version": 3
   },
   "file_extension": ".py",
   "mimetype": "text/x-python",
   "name": "python",
   "nbconvert_exporter": "python",
   "pygments_lexer": "ipython3",
   "version": "3.8.3"
  }
 },
 "nbformat": 4,
 "nbformat_minor": 4
}
