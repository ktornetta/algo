{
 "cells": [
  {
   "cell_type": "markdown",
   "metadata": {},
   "source": [
    "### Kelly Tornetta\n",
    "### Depth First Search & Breadth First Search"
   ]
  },
  {
   "cell_type": "markdown",
   "metadata": {},
   "source": [
    "#### Importing Libraries"
   ]
  },
  {
   "cell_type": "code",
   "execution_count": 1,
   "metadata": {},
   "outputs": [],
   "source": [
    "from collections import defaultdict #library to create adjacency list for graph\n",
    "import queue #library to create FIFO queue"
   ]
  },
  {
   "cell_type": "markdown",
   "metadata": {},
   "source": [
    "#### Functions to create graph g, implement dfs, and implement bfs"
   ]
  },
  {
   "cell_type": "code",
   "execution_count": 2,
   "metadata": {},
   "outputs": [],
   "source": [
    "class Graph:\n",
    "    \n",
    "    #CREATING GRAPH G\n",
    "    def __init__(G):\n",
    "        G.graph = defaultdict(list) #creates a graph of arbitrary size since we are using a list instead of a matrix\n",
    "    \n",
    "    def set_edge(G, u, v): #creates unweighted edge (u,v)\n",
    "        G.graph[u].append(v)\n",
    "       \n",
    "    \n",
    "    \n",
    "    #DFS ALGORITHM    \n",
    "    def dfs_visit(G, u, visited):\n",
    "        visited.add(u) #discover u\n",
    "        print(u, end = ' ') #print visited node u \n",
    "        \n",
    "        for v in G.graph[u]: #explore (u,v)\n",
    "            if v not in visited: #pseudocode: if v is white\n",
    "                G.dfs_visit(v, visited)\n",
    "    \n",
    "    def dfs(G):\n",
    "        visited = set() #set of visited nodes instead of coloring gray; pseudocode: u is gray\n",
    "        \n",
    "        for u in list(G.graph): \n",
    "            if u not in visited: #pseudocode: if u is white\n",
    "                G.dfs_visit(u, visited) #explore node u \n",
    "    \n",
    "    \n",
    "    \n",
    "    #BFS ALGORITHM \n",
    "    def bfs_visit(G, s, visited):   \n",
    "        Q = queue.Queue() #FIFO queue Q\n",
    "\n",
    "        visited.add(s) #discover source s \n",
    "        Q.put(s) #enqueue (Q,s) \n",
    "\n",
    "        while(not Q.empty()): #while Q nonempty\n",
    "            u = Q.queue[0] #dequeue node u and print visited node u\n",
    "            print(u, end = ' ') \n",
    "            Q.get()  \n",
    "  \n",
    "            for v in G.graph[u]: #all adjacent nodes to u \n",
    "                if v not in visited: #if v has not been visited, enqueue (Q,v) and mark v as visited\n",
    "                    Q.put(v)\n",
    "                    visited.add(v)\n",
    "        \n",
    "    def bfs(G, s): \n",
    "        visited = set() #set of visited nodes\n",
    "\n",
    "        G.bfs_visit(s, visited) #explore source s first\n",
    "        \n",
    "        for u in list(G.graph): #loop for all nodes in G\n",
    "            if u not in visited: #if u has not been visited, explore node u \n",
    "                G.bfs_visit(u, visited) "
   ]
  },
  {
   "cell_type": "markdown",
   "metadata": {},
   "source": [
    "#### Creating graph g"
   ]
  },
  {
   "cell_type": "code",
   "execution_count": 3,
   "metadata": {},
   "outputs": [],
   "source": [
    "g = Graph()\n",
    "g.set_edge(0,1)\n",
    "g.set_edge(0,2)\n",
    "g.set_edge(0,3)\n",
    "g.set_edge(1,2)\n",
    "g.set_edge(1,5)\n",
    "g.set_edge(3,4)\n",
    "g.set_edge(3,7)\n",
    "g.set_edge(4,6)\n",
    "g.set_edge(5,7)\n",
    "g.set_edge(8,9)"
   ]
  },
  {
   "cell_type": "markdown",
   "metadata": {},
   "source": [
    "#### DFS of g"
   ]
  },
  {
   "cell_type": "code",
   "execution_count": 4,
   "metadata": {},
   "outputs": [
    {
     "name": "stdout",
     "output_type": "stream",
     "text": [
      "Depth First Traversal of g:\n",
      "0 1 2 5 7 3 4 6 8 9 "
     ]
    }
   ],
   "source": [
    "print(\"Depth First Traversal of g:\")\n",
    "g.dfs()"
   ]
  },
  {
   "cell_type": "markdown",
   "metadata": {},
   "source": [
    "#### BFS of g"
   ]
  },
  {
   "cell_type": "code",
   "execution_count": 5,
   "metadata": {},
   "outputs": [
    {
     "name": "stdout",
     "output_type": "stream",
     "text": [
      "Breadth First Traversal of g starting at node 0:\n",
      "0 1 2 3 5 4 7 6 8 9 "
     ]
    }
   ],
   "source": [
    "print(\"Breadth First Traversal of g starting at node 0:\")\n",
    "g.bfs(0)"
   ]
  },
  {
   "cell_type": "code",
   "execution_count": null,
   "metadata": {},
   "outputs": [],
   "source": []
  }
 ],
 "metadata": {
  "kernelspec": {
   "display_name": "Python 3",
   "language": "python",
   "name": "python3"
  },
  "language_info": {
   "codemirror_mode": {
    "name": "ipython",
    "version": 3
   },
   "file_extension": ".py",
   "mimetype": "text/x-python",
   "name": "python",
   "nbconvert_exporter": "python",
   "pygments_lexer": "ipython3",
   "version": "3.8.3"
  }
 },
 "nbformat": 4,
 "nbformat_minor": 4
}
