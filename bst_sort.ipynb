{
 "cells": [
  {
   "cell_type": "markdown",
   "metadata": {},
   "source": [
    "### Kelly Tornetta\n",
    "### Binary Search Tree"
   ]
  },
  {
   "cell_type": "code",
   "execution_count": 8,
   "metadata": {},
   "outputs": [],
   "source": [
    "#importing libraries\n",
    "\n",
    "import numpy as np\n",
    "import time\n",
    "import sys\n",
    "\n",
    "sys.setrecursionlimit(10**6)"
   ]
  },
  {
   "cell_type": "code",
   "execution_count": 9,
   "metadata": {},
   "outputs": [],
   "source": [
    "#function to create a random array of a given length\n",
    "\n",
    "def createRandomArray(length):\n",
    "    random_array = np.random.randint(1, 5000000, size = (length))   \n",
    "    random_array = random_array.tolist()                     \n",
    "    return random_array"
   ]
  },
  {
   "cell_type": "code",
   "execution_count": 10,
   "metadata": {},
   "outputs": [],
   "source": [
    "#function to create a sorted array of a given length\n",
    "\n",
    "def createSortedArray(length):\n",
    "    sorted_array = list(range(1, length+1))                    \n",
    "    return sorted_array"
   ]
  },
  {
   "cell_type": "code",
   "execution_count": 11,
   "metadata": {},
   "outputs": [],
   "source": [
    "#function to create a reverse sorted array of a given length\n",
    "\n",
    "def createReverseArray(length):\n",
    "    reverse_array = np.arange(length, 0, -1)                 \n",
    "    reverse_array = reverse_array.tolist()                   \n",
    "    return reverse_array"
   ]
  },
  {
   "cell_type": "code",
   "execution_count": 12,
   "metadata": {},
   "outputs": [],
   "source": [
    "#function to check if the output sorted array is sorted\n",
    "\n",
    "def checkSorted(sorted_array):\n",
    "    for i in range(1, len(sorted_array)):                   \n",
    "        if sorted_array[i-1] > sorted_array[i]:             \n",
    "            print(\"Array is NOT sorted!\", end = \"\\n\")       \n",
    "            return False\n",
    "    return True                                             "
   ]
  },
  {
   "cell_type": "code",
   "execution_count": 44,
   "metadata": {},
   "outputs": [],
   "source": [
    "class node():\n",
    "    \n",
    "    def __init__(self, key):\n",
    "        self.val = key\n",
    "        self.left = None \n",
    "        self.right = None \n",
    "    \n",
    "    def insert(self, key):\n",
    "        if self.val:\n",
    "            \n",
    "            if key < self.val:\n",
    "                if self.left == None:\n",
    "                    self.left = node(key)\n",
    "                else:\n",
    "                    self.left.insert(key)\n",
    "                    \n",
    "            elif key > self.val:\n",
    "                if self.right == None:\n",
    "                    self.right = node(key)\n",
    "                else:\n",
    "                    self.right.insert(key)\n",
    "                    \n",
    "        else:\n",
    "            self.val = key\n",
    "\n",
    "            \n",
    "def inorder(root, sorted_array): \n",
    "    if root:\n",
    "        inorder(root.left, sorted_array)\n",
    "        sorted_array.append(root.val)\n",
    "        inorder(root.right, sorted_array)\n",
    "\n",
    "def bs_treesort(input_array):\n",
    "    if len(input_array) == 0:\n",
    "        return input_array\n",
    "\n",
    "    root = node(input_array[0])\n",
    "    for i in range(1, len(input_array)):\n",
    "        root.insert(input_array[i])\n",
    "\n",
    "    sorted_array = []\n",
    "    inorder(root, sorted_array)\n",
    "    print(\"Number of Duplicates: \", len(input_array) - len(sorted_array))\n",
    "    \n",
    "    return sorted_array"
   ]
  },
  {
   "cell_type": "markdown",
   "metadata": {},
   "source": [
    "### BST  with Random Array"
   ]
  },
  {
   "cell_type": "code",
   "execution_count": 50,
   "metadata": {
    "scrolled": true
   },
   "outputs": [
    {
     "name": "stdout",
     "output_type": "stream",
     "text": [
      "Beginning Binary Tree Sort\n",
      "------------\n",
      "Number of Duplicates:  15\n",
      "------------\n",
      "Array is sorted!\n",
      "First values are:  [350, 877, 1493, 1624, 2277, 2612, 3040, 3348, 3413, 4163] ...\n",
      "------------\n",
      "Execution took 0.07089495658874512 seconds\n"
     ]
    }
   ],
   "source": [
    "startTime = time.time()\n",
    "print(\"Beginning Binary Tree Sort\")\n",
    "print('------------')\n",
    "\n",
    "\n",
    "c = bs_treesort(createRandomArray(10000))\n",
    "\n",
    "if checkSorted(c) == True:                          \n",
    "    print('------------')\n",
    "    print(\"Array is sorted!\", end = \"\\n\")\n",
    "\n",
    "print('First values are: ', c[0:10], '...')    \n",
    "print('------------')\n",
    "print(\"Execution took %s seconds\" % (time.time() - startTime), end = \"\\n\")"
   ]
  }
 ],
 "metadata": {
  "kernelspec": {
   "display_name": "Python 3",
   "language": "python",
   "name": "python3"
  },
  "language_info": {
   "codemirror_mode": {
    "name": "ipython",
    "version": 3
   },
   "file_extension": ".py",
   "mimetype": "text/x-python",
   "name": "python",
   "nbconvert_exporter": "python",
   "pygments_lexer": "ipython3",
   "version": "3.8.3"
  }
 },
 "nbformat": 4,
 "nbformat_minor": 4
}
